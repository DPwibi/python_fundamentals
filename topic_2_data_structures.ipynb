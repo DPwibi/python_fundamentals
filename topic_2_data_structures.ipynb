{
 "cells": [
  {
   "cell_type": "markdown",
   "id": "44d11af3",
   "metadata": {},
   "source": [
    "### list"
   ]
  },
  {
   "cell_type": "code",
   "execution_count": 2,
   "id": "2a7d8df1",
   "metadata": {},
   "outputs": [],
   "source": [
    "colors = ['red',\"blue\", \"green\"]"
   ]
  },
  {
   "cell_type": "code",
   "execution_count": 3,
   "id": "5e37d941",
   "metadata": {},
   "outputs": [
    {
     "name": "stdout",
     "output_type": "stream",
     "text": [
      "red\n",
      "blue\n",
      "green\n"
     ]
    }
   ],
   "source": [
    "for col in colors:\n",
    "    print(col)"
   ]
  },
  {
   "cell_type": "code",
   "execution_count": 1,
   "id": "ee7cc3c0",
   "metadata": {},
   "outputs": [],
   "source": [
    "friends = ['Harry', 'Yazdan', 'Ismael']\n"
   ]
  },
  {
   "cell_type": "code",
   "execution_count": null,
   "id": "3c4dbcc3",
   "metadata": {},
   "outputs": [
    {
     "data": {
      "text/plain": [
       "['Harry', 'Yazdan', 'Ismael', 'Omer']"
      ]
     },
     "execution_count": 2,
     "metadata": {},
     "output_type": "execute_result"
    },
    {
     "ename": "",
     "evalue": "",
     "output_type": "error",
     "traceback": [
      "\u001b[1;31mThe Kernel crashed while executing code in the current cell or a previous cell. \n",
      "\u001b[1;31mPlease review the code in the cell(s) to identify a possible cause of the failure. \n",
      "\u001b[1;31mClick <a href='https://aka.ms/vscodeJupyterKernelCrash'>here</a> for more info. \n",
      "\u001b[1;31mView Jupyter <a href='command:jupyter.viewOutput'>log</a> for further details."
     ]
    }
   ],
   "source": [
    "friends.append('Omer')\n",
    "friends"
   ]
  },
  {
   "cell_type": "code",
   "execution_count": 5,
   "id": "2d3e5586",
   "metadata": {},
   "outputs": [],
   "source": [
    "## access Yazdan!"
   ]
  },
  {
   "cell_type": "code",
   "execution_count": 6,
   "id": "4be91a80",
   "metadata": {},
   "outputs": [
    {
     "data": {
      "text/plain": [
       "'Yazdan'"
      ]
     },
     "execution_count": 6,
     "metadata": {},
     "output_type": "execute_result"
    }
   ],
   "source": [
    "friends[1]"
   ]
  },
  {
   "cell_type": "code",
   "execution_count": 7,
   "id": "e32f77bc",
   "metadata": {},
   "outputs": [],
   "source": [
    "# change second value"
   ]
  },
  {
   "cell_type": "code",
   "execution_count": 8,
   "id": "8f940a74",
   "metadata": {},
   "outputs": [],
   "source": [
    "friends[1] = \"Ali\""
   ]
  },
  {
   "cell_type": "code",
   "execution_count": 9,
   "id": "167028a3",
   "metadata": {},
   "outputs": [
    {
     "name": "stdout",
     "output_type": "stream",
     "text": [
      "['Harry', 'Ali', 'Ismael']\n"
     ]
    }
   ],
   "source": [
    "print(friends)"
   ]
  },
  {
   "cell_type": "code",
   "execution_count": 10,
   "id": "f00eba70",
   "metadata": {},
   "outputs": [],
   "source": [
    "numbers = [12312 ,3124,2452,5435,2425,34542,634,5465,6543,5654,3564355566354,6,435,635456,4653,56543,456,6,645,7,543,536,457,5645,355556]"
   ]
  },
  {
   "cell_type": "code",
   "execution_count": 11,
   "id": "6c4db4c4",
   "metadata": {},
   "outputs": [
    {
     "data": {
      "text/plain": [
       "355556"
      ]
     },
     "execution_count": 11,
     "metadata": {},
     "output_type": "execute_result"
    }
   ],
   "source": [
    "numbers[24]"
   ]
  },
  {
   "cell_type": "code",
   "execution_count": 12,
   "id": "154aa046",
   "metadata": {},
   "outputs": [
    {
     "data": {
      "text/plain": [
       "5645"
      ]
     },
     "execution_count": 12,
     "metadata": {},
     "output_type": "execute_result"
    }
   ],
   "source": [
    "numbers[-2] # means second last"
   ]
  },
  {
   "cell_type": "code",
   "execution_count": 13,
   "id": "476580d0",
   "metadata": {},
   "outputs": [
    {
     "data": {
      "text/plain": [
       "['Harry', 'Ali', 'Ismael']"
      ]
     },
     "execution_count": 13,
     "metadata": {},
     "output_type": "execute_result"
    }
   ],
   "source": [
    "friends"
   ]
  },
  {
   "cell_type": "code",
   "execution_count": 14,
   "id": "354730e0",
   "metadata": {},
   "outputs": [],
   "source": [
    "friends.append('Yazdan') "
   ]
  },
  {
   "cell_type": "code",
   "execution_count": 15,
   "id": "835b04d4",
   "metadata": {},
   "outputs": [
    {
     "name": "stdout",
     "output_type": "stream",
     "text": [
      "['Harry', 'Ali', 'Ismael', 'Yazdan']\n"
     ]
    }
   ],
   "source": [
    "print(friends)"
   ]
  },
  {
   "cell_type": "code",
   "execution_count": 16,
   "id": "dde2f71e",
   "metadata": {},
   "outputs": [
    {
     "data": {
      "text/plain": [
       "1"
      ]
     },
     "execution_count": 16,
     "metadata": {},
     "output_type": "execute_result"
    }
   ],
   "source": [
    "friends.count('Ali')"
   ]
  },
  {
   "cell_type": "code",
   "execution_count": 17,
   "id": "be1cc4de",
   "metadata": {},
   "outputs": [],
   "source": [
    "names = ['yazdan','ali','yazdan']"
   ]
  },
  {
   "cell_type": "code",
   "execution_count": 18,
   "id": "6fe5db5d",
   "metadata": {},
   "outputs": [
    {
     "data": {
      "text/plain": [
       "2"
      ]
     },
     "execution_count": 18,
     "metadata": {},
     "output_type": "execute_result"
    }
   ],
   "source": [
    "names.count('yazdan')"
   ]
  },
  {
   "cell_type": "code",
   "execution_count": 19,
   "id": "282c82b7",
   "metadata": {},
   "outputs": [],
   "source": [
    "names.extend(friends)"
   ]
  },
  {
   "cell_type": "code",
   "execution_count": 20,
   "id": "15d3754a",
   "metadata": {},
   "outputs": [
    {
     "data": {
      "text/plain": [
       "['yazdan', 'ali', 'yazdan', 'Harry', 'Ali', 'Ismael', 'Yazdan']"
      ]
     },
     "execution_count": 20,
     "metadata": {},
     "output_type": "execute_result"
    }
   ],
   "source": [
    "names"
   ]
  },
  {
   "cell_type": "code",
   "execution_count": 21,
   "id": "10ea03fe",
   "metadata": {},
   "outputs": [],
   "source": [
    "names.sort()"
   ]
  },
  {
   "cell_type": "code",
   "execution_count": 22,
   "id": "a5c08fb6",
   "metadata": {},
   "outputs": [
    {
     "data": {
      "text/plain": [
       "['Ali', 'Harry', 'Ismael', 'Yazdan', 'ali', 'yazdan', 'yazdan']"
      ]
     },
     "execution_count": 22,
     "metadata": {},
     "output_type": "execute_result"
    }
   ],
   "source": [
    "names"
   ]
  },
  {
   "cell_type": "code",
   "execution_count": 23,
   "id": "61f3b836",
   "metadata": {},
   "outputs": [],
   "source": [
    "friends.extend(names)"
   ]
  },
  {
   "cell_type": "code",
   "execution_count": 24,
   "id": "8bad50eb",
   "metadata": {},
   "outputs": [
    {
     "data": {
      "text/plain": [
       "['Harry',\n",
       " 'Ali',\n",
       " 'Ismael',\n",
       " 'Yazdan',\n",
       " 'Ali',\n",
       " 'Harry',\n",
       " 'Ismael',\n",
       " 'Yazdan',\n",
       " 'ali',\n",
       " 'yazdan',\n",
       " 'yazdan']"
      ]
     },
     "execution_count": 24,
     "metadata": {},
     "output_type": "execute_result"
    }
   ],
   "source": [
    "friends"
   ]
  },
  {
   "cell_type": "code",
   "execution_count": 25,
   "id": "104ac799",
   "metadata": {},
   "outputs": [
    {
     "data": {
      "text/plain": [
       "2"
      ]
     },
     "execution_count": 25,
     "metadata": {},
     "output_type": "execute_result"
    }
   ],
   "source": [
    "friends.count('Harry')"
   ]
  },
  {
   "cell_type": "code",
   "execution_count": 26,
   "id": "4b64c04e",
   "metadata": {},
   "outputs": [
    {
     "data": {
      "text/plain": [
       "['__add__',\n",
       " '__class__',\n",
       " '__class_getitem__',\n",
       " '__contains__',\n",
       " '__delattr__',\n",
       " '__delitem__',\n",
       " '__dir__',\n",
       " '__doc__',\n",
       " '__eq__',\n",
       " '__format__',\n",
       " '__ge__',\n",
       " '__getattribute__',\n",
       " '__getitem__',\n",
       " '__getstate__',\n",
       " '__gt__',\n",
       " '__hash__',\n",
       " '__iadd__',\n",
       " '__imul__',\n",
       " '__init__',\n",
       " '__init_subclass__',\n",
       " '__iter__',\n",
       " '__le__',\n",
       " '__len__',\n",
       " '__lt__',\n",
       " '__mul__',\n",
       " '__ne__',\n",
       " '__new__',\n",
       " '__reduce__',\n",
       " '__reduce_ex__',\n",
       " '__repr__',\n",
       " '__reversed__',\n",
       " '__rmul__',\n",
       " '__setattr__',\n",
       " '__setitem__',\n",
       " '__sizeof__',\n",
       " '__str__',\n",
       " '__subclasshook__',\n",
       " 'append',\n",
       " 'clear',\n",
       " 'copy',\n",
       " 'count',\n",
       " 'extend',\n",
       " 'index',\n",
       " 'insert',\n",
       " 'pop',\n",
       " 'remove',\n",
       " 'reverse',\n",
       " 'sort']"
      ]
     },
     "execution_count": 26,
     "metadata": {},
     "output_type": "execute_result"
    }
   ],
   "source": [
    "dir(friends)"
   ]
  },
  {
   "cell_type": "code",
   "execution_count": 36,
   "id": "6745b8f8",
   "metadata": {},
   "outputs": [
    {
     "data": {
      "text/plain": [
       "'Harry'"
      ]
     },
     "execution_count": 36,
     "metadata": {},
     "output_type": "execute_result"
    }
   ],
   "source": [
    "friends.pop()"
   ]
  },
  {
   "cell_type": "code",
   "execution_count": 37,
   "id": "6ae02edc",
   "metadata": {},
   "outputs": [
    {
     "data": {
      "text/plain": [
       "['Harry', 'Ali', 'Ismael', 'Yazdan', 'Ali']"
      ]
     },
     "execution_count": 37,
     "metadata": {},
     "output_type": "execute_result"
    }
   ],
   "source": [
    "friends"
   ]
  },
  {
   "cell_type": "code",
   "execution_count": 38,
   "id": "e238be7c",
   "metadata": {},
   "outputs": [],
   "source": [
    "# exact opposite of append"
   ]
  },
  {
   "cell_type": "markdown",
   "id": "6d6892d1",
   "metadata": {},
   "source": [
    "## dictionary!"
   ]
  },
  {
   "cell_type": "code",
   "execution_count": 39,
   "id": "261d8376",
   "metadata": {},
   "outputs": [],
   "source": [
    "d = {\n",
    "    'apple':'red',\n",
    "    'banana' : 'yellow',\n",
    "    'mango':'green',\n",
    "\n",
    "     }"
   ]
  },
  {
   "cell_type": "code",
   "execution_count": 40,
   "id": "afa2d6e7",
   "metadata": {},
   "outputs": [],
   "source": [
    "# how to add and how to remove\n",
    "d['orange'] = 'orange'"
   ]
  },
  {
   "cell_type": "code",
   "execution_count": 41,
   "id": "e4b29bb8",
   "metadata": {},
   "outputs": [
    {
     "data": {
      "text/plain": [
       "{'apple': 'red', 'banana': 'yellow', 'mango': 'green', 'orange': 'orange'}"
      ]
     },
     "execution_count": 41,
     "metadata": {},
     "output_type": "execute_result"
    }
   ],
   "source": [
    "d"
   ]
  },
  {
   "cell_type": "code",
   "execution_count": 42,
   "id": "f6b31861",
   "metadata": {},
   "outputs": [],
   "source": [
    "del d['mango']"
   ]
  },
  {
   "cell_type": "code",
   "execution_count": null,
   "id": "b8479b14",
   "metadata": {},
   "outputs": [
    {
     "data": {
      "text/plain": [
       "{'apple': 'red', 'banana': 'yellow', 'orange': 'orange'}"
      ]
     },
     "execution_count": 43,
     "metadata": {},
     "output_type": "execute_result"
    },
    {
     "ename": "",
     "evalue": "",
     "output_type": "error",
     "traceback": [
      "\u001b[1;31mThe Kernel crashed while executing code in the current cell or a previous cell. \n",
      "\u001b[1;31mPlease review the code in the cell(s) to identify a possible cause of the failure. \n",
      "\u001b[1;31mClick <a href='https://aka.ms/vscodeJupyterKernelCrash'>here</a> for more info. \n",
      "\u001b[1;31mView Jupyter <a href='command:jupyter.viewOutput'>log</a> for further details."
     ]
    }
   ],
   "source": [
    "d"
   ]
  },
  {
   "cell_type": "code",
   "execution_count": null,
   "id": "fe9523be",
   "metadata": {},
   "outputs": [],
   "source": []
  }
 ],
 "metadata": {
  "kernelspec": {
   "display_name": "Python 3",
   "language": "python",
   "name": "python3"
  },
  "language_info": {
   "codemirror_mode": {
    "name": "ipython",
    "version": 3
   },
   "file_extension": ".py",
   "mimetype": "text/x-python",
   "name": "python",
   "nbconvert_exporter": "python",
   "pygments_lexer": "ipython3",
   "version": "3.11.4"
  }
 },
 "nbformat": 4,
 "nbformat_minor": 5
}
