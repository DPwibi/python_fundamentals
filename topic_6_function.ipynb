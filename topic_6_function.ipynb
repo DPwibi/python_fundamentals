{
 "cells": [
  {
   "cell_type": "code",
   "execution_count": 1,
   "id": "73629417",
   "metadata": {},
   "outputs": [],
   "source": [
    "## make a function that takes name and print special greeting for that nam"
   ]
  },
  {
   "cell_type": "code",
   "execution_count": null,
   "id": "2cb8fe32",
   "metadata": {},
   "outputs": [],
   "source": [
    "def greeting(name):\n",
    "    print(f'Welcome {name}!')\n",
    "    "
   ]
  },
  {
   "cell_type": "code",
   "execution_count": 6,
   "id": "bf2ee1e3",
   "metadata": {},
   "outputs": [
    {
     "name": "stdout",
     "output_type": "stream",
     "text": [
      "Welcome Daru!\n"
     ]
    }
   ],
   "source": [
    "greeting('Daru')"
   ]
  },
  {
   "cell_type": "code",
   "execution_count": 7,
   "id": "44521f9a",
   "metadata": {},
   "outputs": [
    {
     "name": "stdout",
     "output_type": "stream",
     "text": [
      "Welcome Umair!\n"
     ]
    }
   ],
   "source": [
    "greeting('Umair')"
   ]
  },
  {
   "cell_type": "code",
   "execution_count": 8,
   "id": "bf067bc0",
   "metadata": {},
   "outputs": [],
   "source": [
    "def special_greeting(name):\n",
    "    if name =='Daru':\n",
    "        print('weclome Daru! you are so cool')\n",
    "    else:\n",
    "        print(f'Hi {name}')\n"
   ]
  },
  {
   "cell_type": "code",
   "execution_count": 9,
   "id": "23993cd1",
   "metadata": {},
   "outputs": [
    {
     "name": "stdout",
     "output_type": "stream",
     "text": [
      "weclome Daru! you are so cool\n"
     ]
    }
   ],
   "source": [
    "special_greeting('Daru')"
   ]
  },
  {
   "cell_type": "code",
   "execution_count": 10,
   "id": "56076252",
   "metadata": {},
   "outputs": [
    {
     "name": "stdout",
     "output_type": "stream",
     "text": [
      "Hi Umair\n"
     ]
    }
   ],
   "source": [
    "special_greeting('Umair')"
   ]
  },
  {
   "cell_type": "code",
   "execution_count": null,
   "id": "ca849559",
   "metadata": {},
   "outputs": [],
   "source": []
  }
 ],
 "metadata": {
  "kernelspec": {
   "display_name": "Python 3",
   "language": "python",
   "name": "python3"
  },
  "language_info": {
   "codemirror_mode": {
    "name": "ipython",
    "version": 3
   },
   "file_extension": ".py",
   "mimetype": "text/x-python",
   "name": "python",
   "nbconvert_exporter": "python",
   "pygments_lexer": "ipython3",
   "version": "3.11.4"
  }
 },
 "nbformat": 4,
 "nbformat_minor": 5
}
