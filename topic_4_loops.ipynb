{
 "cells": [
  {
   "cell_type": "code",
   "execution_count": 3,
   "id": "38220d65",
   "metadata": {},
   "outputs": [
    {
     "name": "stdout",
     "output_type": "stream",
     "text": [
      "Daru 0\n",
      "Daru 1\n",
      "Daru 2\n",
      "Daru 3\n",
      "Daru 4\n",
      "Daru 5\n",
      "Daru 6\n",
      "Daru 7\n",
      "Daru 8\n",
      "Daru 9\n",
      "Daru 10\n",
      "Daru 11\n",
      "Daru 12\n",
      "Daru 13\n",
      "Daru 14\n",
      "Daru 15\n",
      "Daru 16\n",
      "Daru 17\n",
      "Daru 18\n",
      "Daru 19\n",
      "Daru 20\n",
      "Daru 21\n",
      "Daru 22\n",
      "Daru 23\n",
      "Daru 24\n",
      "Daru 25\n",
      "Daru 26\n",
      "Daru 27\n",
      "Daru 28\n",
      "Daru 29\n",
      "Daru 30\n",
      "Daru 31\n",
      "Daru 32\n",
      "Daru 33\n",
      "Daru 34\n",
      "Daru 35\n",
      "Daru 36\n",
      "Daru 37\n",
      "Daru 38\n",
      "Daru 39\n",
      "Daru 40\n",
      "Daru 41\n",
      "Daru 42\n",
      "Daru 43\n",
      "Daru 44\n",
      "Daru 45\n",
      "Daru 46\n",
      "Daru 47\n",
      "Daru 48\n",
      "Daru 49\n"
     ]
    }
   ],
   "source": [
    "\n",
    "for i in range(50):\n",
    "    print(\"Daru\",i)"
   ]
  },
  {
   "cell_type": "code",
   "execution_count": 8,
   "id": "f11fc958",
   "metadata": {},
   "outputs": [
    {
     "name": "stdout",
     "output_type": "stream",
     "text": [
      "hello chances left 11\n",
      "hello chances left 10\n",
      "hello chances left 9\n",
      "hello chances left 8\n",
      "hello chances left 7\n",
      "hello chances left 6\n"
     ]
    }
   ],
   "source": [
    "chances = 11\n",
    "while chances > 5: # works on condition\n",
    "    print(f'hello chances left {chances}')\n",
    "    chances = chances - 1 # 10 "
   ]
  },
  {
   "cell_type": "code",
   "execution_count": null,
   "id": "238907fc",
   "metadata": {},
   "outputs": [
    {
     "name": "stdout",
     "output_type": "stream",
     "text": [
      "total names are ['ali', 'n', 'ali', 'umar']\n"
     ]
    },
    {
     "ename": "",
     "evalue": "",
     "output_type": "error",
     "traceback": [
      "\u001b[1;31mThe Kernel crashed while executing code in the current cell or a previous cell. \n",
      "\u001b[1;31mPlease review the code in the cell(s) to identify a possible cause of the failure. \n",
      "\u001b[1;31mClick <a href='https://aka.ms/vscodeJupyterKernelCrash'>here</a> for more info. \n",
      "\u001b[1;31mView Jupyter <a href='command:jupyter.viewOutput'>log</a> for further details."
     ]
    }
   ],
   "source": [
    "names = []\n",
    "while True:\n",
    "    name = input('please enter your name: ')\n",
    "    names.append(name)\n",
    "    x = input('do you wish to continue?: press y for yes and n for no')\n",
    "    if x == 'no':\n",
    "        break\n",
    "print(f'total names are {names}')"
   ]
  },
  {
   "cell_type": "code",
   "execution_count": 1,
   "id": "c402d301",
   "metadata": {},
   "outputs": [],
   "source": [
    "import funs"
   ]
  },
  {
   "cell_type": "code",
   "execution_count": 2,
   "id": "a4bcd2c6",
   "metadata": {},
   "outputs": [
    {
     "data": {
      "text/plain": [
       "68.0"
      ]
     },
     "execution_count": 2,
     "metadata": {},
     "output_type": "execute_result"
    }
   ],
   "source": [
    "funs.celcius_2_fahrenheit(20)"
   ]
  },
  {
   "cell_type": "code",
   "execution_count": 3,
   "id": "d8f522c0",
   "metadata": {},
   "outputs": [
    {
     "data": {
      "text/plain": [
       "38.333333333333336"
      ]
     },
     "execution_count": 3,
     "metadata": {},
     "output_type": "execute_result"
    }
   ],
   "source": [
    "funs.fahrenheit_2_celcius(101)"
   ]
  },
  {
   "cell_type": "code",
   "execution_count": null,
   "id": "1d52f051",
   "metadata": {},
   "outputs": [],
   "source": []
  }
 ],
 "metadata": {
  "kernelspec": {
   "display_name": "Python 3",
   "language": "python",
   "name": "python3"
  },
  "language_info": {
   "codemirror_mode": {
    "name": "ipython",
    "version": 3
   },
   "file_extension": ".py",
   "mimetype": "text/x-python",
   "name": "python",
   "nbconvert_exporter": "python",
   "pygments_lexer": "ipython3",
   "version": "3.11.4"
  }
 },
 "nbformat": 4,
 "nbformat_minor": 5
}
