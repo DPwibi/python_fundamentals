{
 "cells": [
  {
   "cell_type": "code",
   "execution_count": 1,
   "id": "abf2e211",
   "metadata": {},
   "outputs": [],
   "source": [
    "### kilometer to miles converter function"
   ]
  },
  {
   "cell_type": "code",
   "execution_count": 6,
   "id": "56e03e5f",
   "metadata": {},
   "outputs": [],
   "source": [
    "## dollar to kroner\n",
    "\n",
    "def kron_to_other_currencies(kron):\n",
    "    dollar = kron / 10.2\n",
    "    euros = kron / 11.93\n",
    "    pound = kron / 13.77\n",
    "    print(f'{kron} kron is equal to {dollar:.2f}usd, {euros:.2f}eu, {pound:.2f}pound')"
   ]
  },
  {
   "cell_type": "code",
   "execution_count": 11,
   "id": "172f1535",
   "metadata": {},
   "outputs": [
    {
     "name": "stdout",
     "output_type": "stream",
     "text": [
      "1000 kron is equal to 98.04usd, 83.82eu, 72.62pound\n"
     ]
    }
   ],
   "source": [
    "kron_to_other_currencies(1000)"
   ]
  },
  {
   "cell_type": "code",
   "execution_count": null,
   "id": "7be6acb2",
   "metadata": {},
   "outputs": [],
   "source": []
  },
  {
   "cell_type": "code",
   "execution_count": null,
   "id": "ff71901f",
   "metadata": {},
   "outputs": [],
   "source": []
  }
 ],
 "metadata": {
  "kernelspec": {
   "display_name": "Python 3",
   "language": "python",
   "name": "python3"
  },
  "language_info": {
   "codemirror_mode": {
    "name": "ipython",
    "version": 3
   },
   "file_extension": ".py",
   "mimetype": "text/x-python",
   "name": "python",
   "nbconvert_exporter": "python",
   "pygments_lexer": "ipython3",
   "version": "3.11.4"
  }
 },
 "nbformat": 4,
 "nbformat_minor": 5
}
