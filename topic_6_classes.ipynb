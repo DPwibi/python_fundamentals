{
 "cells": [
  {
   "cell_type": "code",
   "execution_count": 1,
   "id": "a33904ae",
   "metadata": {},
   "outputs": [],
   "source": [
    "class Cat:\n",
    "    pass"
   ]
  },
  {
   "cell_type": "code",
   "execution_count": 2,
   "id": "bb540cab",
   "metadata": {},
   "outputs": [],
   "source": [
    "c1 = Cat()\n",
    "c2 = Cat()"
   ]
  },
  {
   "cell_type": "code",
   "execution_count": 9,
   "id": "4d153c0c",
   "metadata": {},
   "outputs": [],
   "source": [
    "class Cat:\n",
    "    def __init__(self,name,status):\n",
    "        self.name = name\n",
    "        self.status = status \n",
    "    def what_cat_doing(self):\n",
    "        print(f'{self.name} is right now {self.status}')\n",
    "    def change_status(self, new_status):\n",
    "        self.status = new_status\n",
    "        "
   ]
  },
  {
   "cell_type": "code",
   "execution_count": 10,
   "id": "450b5bc7",
   "metadata": {},
   "outputs": [],
   "source": [
    "c1 = Cat('bob','sleeping')\n",
    "c2 = Cat('happi','eating')"
   ]
  },
  {
   "cell_type": "code",
   "execution_count": 11,
   "id": "dc3f5c73",
   "metadata": {},
   "outputs": [
    {
     "name": "stdout",
     "output_type": "stream",
     "text": [
      "bob is right now sleeping\n"
     ]
    }
   ],
   "source": [
    "c1.what_cat_doing()"
   ]
  },
  {
   "cell_type": "code",
   "execution_count": 12,
   "id": "7c68ecd4",
   "metadata": {},
   "outputs": [
    {
     "name": "stdout",
     "output_type": "stream",
     "text": [
      "happi is right now eating\n"
     ]
    }
   ],
   "source": [
    "c2.what_cat_doing()"
   ]
  },
  {
   "cell_type": "code",
   "execution_count": 13,
   "id": "1f4dc515",
   "metadata": {},
   "outputs": [],
   "source": [
    "c1.change_status('running')"
   ]
  },
  {
   "cell_type": "code",
   "execution_count": 15,
   "id": "9db10318",
   "metadata": {},
   "outputs": [
    {
     "name": "stdout",
     "output_type": "stream",
     "text": [
      "bob is right now running\n"
     ]
    }
   ],
   "source": [
    "c1.what_cat_doing()\n"
   ]
  },
  {
   "cell_type": "code",
   "execution_count": null,
   "id": "865d7e4c",
   "metadata": {},
   "outputs": [],
   "source": []
  }
 ],
 "metadata": {
  "kernelspec": {
   "display_name": "Python 3",
   "language": "python",
   "name": "python3"
  },
  "language_info": {
   "codemirror_mode": {
    "name": "ipython",
    "version": 3
   },
   "file_extension": ".py",
   "mimetype": "text/x-python",
   "name": "python",
   "nbconvert_exporter": "python",
   "pygments_lexer": "ipython3",
   "version": "3.11.4"
  }
 },
 "nbformat": 4,
 "nbformat_minor": 5
}
